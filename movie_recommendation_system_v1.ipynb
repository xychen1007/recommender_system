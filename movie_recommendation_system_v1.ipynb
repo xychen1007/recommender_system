{
 "cells": [
  {
   "cell_type": "markdown",
   "metadata": {},
   "source": [
    "Agenda\n",
    "- 各自讲讲模型部分（怎么建的、有啥问题）\n",
    "- 一起讨论大的目标\n",
    "\n",
    "\n",
    "TODO\n",
    "- all: 顺着大方向，作一些调整，补充markdown解释\n",
    "- jinming: try implict ALS CF Model. Use MAE?\n",
    "- leyi: 改reco，加roc-based metrics, evaluate model 2\n",
    "\n",
    "ps: 避免漏掉修改，两个人合一份，最后再把两份整合到一起"
   ]
  },
  {
   "cell_type": "markdown",
   "metadata": {},
   "source": [
    "# 1. Business Objectives"
   ]
  },
  {
   "cell_type": "markdown",
   "metadata": {},
   "source": [
    "Imagine that you work for a digital media company that needs to recommend movies. What is your objective? What are you trying to optimizing and what are you willing to sacrifice? \n",
    "\n",
    "State your business objectives in building a recommendation system. Indicate\n",
    "\n",
    "- Objective function: state your business objective, and how this would translate to the metrics that you will ultimately be optimizing for\t \t \t \t\t\n",
    "- Any metric you wish to optimize in addition to accuracy \n",
    "- The intended user （active users with certain amount of rating records）\n",
    "- Any business rules you think will be important  （推荐内容的种类多样性？不重复性？但比较复杂，这次作业可能暂时实现不出来）\n",
    "- Performance requirements (time and/or complexity) （训练和预测时间要可接受，支持每天更新，支持大样本）\n",
    "- And more (for example: interpretability, diversity, novelty, etc) \t\t"
   ]
  },
  {
   "cell_type": "markdown",
   "metadata": {},
   "source": [
    "初步想法：\n",
    "\n",
    "目标：首页推荐TOP K电影给每个用户\n",
    "\n",
    "实现：训练模型（min mae） -> 推荐电影给用户（max recall/auc, user_coverage)"
   ]
  },
  {
   "cell_type": "markdown",
   "metadata": {},
   "source": [
    "- Based on the movie-rating historical data, we are to provide personalizied lists of movies specific to active user, in section like \"TOP 10 MOVIES THAT YOU MAY ALSO LIKE\" in the APP.\n",
    "\n",
    "- To goal is to make good recommendations to active users, in order to increase the chance of them clicking into, watching and liking one of the recommended movies. \n",
    "\n",
    "- Therefore, while maximizing rating accuracy for model training, our ultimate goal is to improve recall/AUC and user-coverage: the higher these metrics are, the better job we are doing in making well recommendations to active users. \n",
    "\n",
    "- To achieve this goal, we will limit our training set to only include movies and users with certain number of rating records, so that we could achieve better overall accuracy thus giving better recommendations. \n",
    "\n",
    "- Inevitably, this will limit the system's performance in cold-start recommendations to some extent but this is acceptable under this overall objective. So we might care less on metrics like movie-coverage, catalog-coverage."
   ]
  },
  {
   "cell_type": "markdown",
   "metadata": {},
   "source": [
    "reco func可能要完善一下：推荐之前没看过的（就是没在train set里的）。更严格来讲，应该推荐某个日期之后的。但实现起来可能比较复杂。"
   ]
  },
  {
   "cell_type": "markdown",
   "metadata": {},
   "source": [
    "# 2. Model Exploration & Evaluation "
   ]
  },
  {
   "cell_type": "code",
   "execution_count": 1,
   "metadata": {
    "ExecuteTime": {
     "end_time": "2020-11-12T14:51:45.388078Z",
     "start_time": "2020-11-12T14:51:44.385615Z"
    }
   },
   "outputs": [],
   "source": [
    "# import packages\n",
    "import pandas as pd\n",
    "import numpy as np\n",
    "import matplotlib.pyplot as plt\n",
    "import seaborn as sns\n",
    "import time\n",
    "from sklearn.model_selection import train_test_split\n",
    "from item_based_cf import *\n",
    "from metrics_helper import *"
   ]
  },
  {
   "cell_type": "code",
   "execution_count": 2,
   "metadata": {
    "ExecuteTime": {
     "end_time": "2020-11-12T14:51:28.947480Z",
     "start_time": "2020-11-12T14:51:22.130206Z"
    }
   },
   "outputs": [],
   "source": [
    "df = pd.read_csv('./ml-latest/ratings.csv')\n",
    "df.drop(\"timestamp\", inplace=True, axis=1)"
   ]
  },
  {
   "cell_type": "code",
   "execution_count": null,
   "metadata": {
    "ExecuteTime": {
     "end_time": "2020-11-12T14:51:10.303888Z",
     "start_time": "2020-11-12T14:51:04.270Z"
    }
   },
   "outputs": [],
   "source": [
    "n_users = df['userId'].nunique()\n",
    "n_items = df['movieId'].nunique()\n",
    "sparsity = round(1.0-len(df)/float(n_users*n_items),5)\n",
    "print(f'The number of unique users is {n_users}')\n",
    "print(f'The number of unique items is {n_items}')\n",
    "print(f'The sparsity is {sparsity*100}%')\n",
    "\n",
    "fig, ax = plt.subplots(figsize=(12,6))\n",
    "fig = sns.histplot(df['movieId'])\n",
    "ax.set_ylabel('Percentage of Users Rating the Movie', size=18)\n",
    "ax.set_xlabel('MovieID', size=18)\n",
    "ax.set_title('Ratings Distribution by Movies', size=20)\n",
    "plt.show()"
   ]
  },
  {
   "cell_type": "markdown",
   "metadata": {},
   "source": [
    "cover movies of all popularity level: set some lower threshold for movies, like only include movies with greater than 5 or 100 ratings, but I wouldn't select only the most popular movies.\n",
    "\n",
    "If you include all levels of popularity it would be great to subset your accuracy results by popularity. Do you see a curve in accuracy from least to most popular?\n",
    "\n",
    "sample from sampled dataset\n"
   ]
  },
  {
   "cell_type": "code",
   "execution_count": 28,
   "metadata": {},
   "outputs": [],
   "source": [
    "#LEYI:能不能这样，先不设定门槛，随机sample，这样可以包括所有popularity程度的电影。\n",
    "#然后将popularity分大概3层或者5层，分别看看每个层级的acc如何（例如一个柱状图or curve），最后结合这个结果决定\n",
    "#我们认为至少需要多少程度的电影，才能够获得比较好的准确度，所以暂时作出牺牲，不推荐那些相对太冷的电影给用户。\n",
    "#因为追求的是“reco the right movies to users\"，而不是要保证cover到所有popularity程度的电影"
   ]
  },
  {
   "cell_type": "markdown",
   "metadata": {},
   "source": [
    "## 2.1 Memory-based Collaborative Filtering"
   ]
  },
  {
   "cell_type": "markdown",
   "metadata": {},
   "source": [
    "### 2.1.1 Data preprocessing"
   ]
  },
  {
   "cell_type": "code",
   "execution_count": 11,
   "metadata": {
    "ExecuteTime": {
     "end_time": "2020-11-09T08:35:03.549581Z",
     "start_time": "2020-11-09T08:34:54.422158Z"
    }
   },
   "outputs": [
    {
     "name": "stdout",
     "output_type": "stream",
     "text": [
      "number of users: 169553\n",
      "number of items: 3929\n",
      "shape of sampled df: (23641130, 3)\n"
     ]
    }
   ],
   "source": [
    "##default param is 4300 and 6800, which can satisfy hw requirement, and it takes about 6 hours to train and predict\n",
    "df_sample = sample_df(df, min_item=20, min_user=1000)"
   ]
  },
  {
   "cell_type": "code",
   "execution_count": 27,
   "metadata": {},
   "outputs": [],
   "source": [
    "# LEYI: 可能需要稍微解释下为啥是这个thresholds？\n",
    "# 体感这个标准还是有点略严格，只包括评过2000+部电影的用户、被10000+个用户评过的电影，似乎有点冷启动不友好？"
   ]
  },
  {
   "cell_type": "code",
   "execution_count": 9,
   "metadata": {},
   "outputs": [
    {
     "data": {
      "text/html": [
       "<div>\n",
       "<style scoped>\n",
       "    .dataframe tbody tr th:only-of-type {\n",
       "        vertical-align: middle;\n",
       "    }\n",
       "\n",
       "    .dataframe tbody tr th {\n",
       "        vertical-align: top;\n",
       "    }\n",
       "\n",
       "    .dataframe thead th {\n",
       "        text-align: right;\n",
       "    }\n",
       "</style>\n",
       "<table border=\"1\" class=\"dataframe\">\n",
       "  <thead>\n",
       "    <tr style=\"text-align: right;\">\n",
       "      <th></th>\n",
       "      <th>userId</th>\n",
       "      <th>movieId</th>\n",
       "      <th>rating</th>\n",
       "    </tr>\n",
       "  </thead>\n",
       "  <tbody>\n",
       "    <tr>\n",
       "      <td>128418</td>\n",
       "      <td>1272</td>\n",
       "      <td>1</td>\n",
       "      <td>3.5</td>\n",
       "    </tr>\n",
       "    <tr>\n",
       "      <td>128419</td>\n",
       "      <td>1272</td>\n",
       "      <td>7</td>\n",
       "      <td>2.0</td>\n",
       "    </tr>\n",
       "    <tr>\n",
       "      <td>128420</td>\n",
       "      <td>1272</td>\n",
       "      <td>11</td>\n",
       "      <td>4.0</td>\n",
       "    </tr>\n",
       "    <tr>\n",
       "      <td>128421</td>\n",
       "      <td>1272</td>\n",
       "      <td>16</td>\n",
       "      <td>2.5</td>\n",
       "    </tr>\n",
       "    <tr>\n",
       "      <td>128422</td>\n",
       "      <td>1272</td>\n",
       "      <td>21</td>\n",
       "      <td>3.0</td>\n",
       "    </tr>\n",
       "  </tbody>\n",
       "</table>\n",
       "</div>"
      ],
      "text/plain": [
       "        userId  movieId  rating\n",
       "128418    1272        1     3.5\n",
       "128419    1272        7     2.0\n",
       "128420    1272       11     4.0\n",
       "128421    1272       16     2.5\n",
       "128422    1272       21     3.0"
      ]
     },
     "execution_count": 9,
     "metadata": {},
     "output_type": "execute_result"
    }
   ],
   "source": [
    "df_sample.head()"
   ]
  },
  {
   "cell_type": "code",
   "execution_count": 10,
   "metadata": {},
   "outputs": [],
   "source": [
    "train_set, test_set = train_test_split(df_sample, test_size=0.50)\n",
    "# train_set, valid_set = train_test_split(train_set, test_size=0.2)\n",
    "rating_matrix_train = train_set.pivot(index='movieId', columns='userId', values='rating')\n",
    "rating_matrix_test = test_set.pivot(index='movieId', columns='userId', values='rating')"
   ]
  },
  {
   "cell_type": "code",
   "execution_count": 53,
   "metadata": {},
   "outputs": [],
   "source": [
    "train_small = rating_matrix_train.iloc[:100,:100]"
   ]
  },
  {
   "cell_type": "code",
   "execution_count": 74,
   "metadata": {},
   "outputs": [],
   "source": [
    "test_small = rating_matrix_test.iloc[:100,:100]"
   ]
  },
  {
   "cell_type": "markdown",
   "metadata": {},
   "source": [
    "### 2.1.2 Model Training "
   ]
  },
  {
   "cell_type": "code",
   "execution_count": 79,
   "metadata": {},
   "outputs": [],
   "source": [
    "class ItemBasedCF():\n",
    "    def __init__(self, k_neighbors = 10, similarity_metrics = 'pearson'):\n",
    "        self.train_set = None\n",
    "        self.similarity_matrix = None\n",
    "        self.k_neighbors = k_neighbors\n",
    "        self.similarity_metrics = similarity_metrics\n",
    "\n",
    "    def fit(self, train_df, dummy_y=None):\n",
    "        train_df = train_set.pivot(index='movieId', columns='userId', values='rating')#修改输入格式\n",
    "        \n",
    "        self.train_set = train_df.values\n",
    "        self.similarity_matrix = sim_matrix(self.train_set, self.similarity_metrics)\n",
    "\n",
    "    def predict(self, test_df):\n",
    "        test_df = test_df.pivot(index='movieId', columns='userId', values='rating')\n",
    "        \n",
    "        pred_df = np.zeros(test_df.shape)\n",
    "        train_set_filled = np.nan_to_num(self.train_set)\n",
    "        nbrs = NearestNeighbors(n_neighbors=self.k_neighbors+1, algorithm='ball_tree').fit(train_set_filled)\n",
    "        distances, indices = nbrs.kneighbors(train_set_filled)\n",
    "        \n",
    "        # return average score of each movie with NAN ignored\n",
    "        mean_item = np.nanmean(self.train_set, axis=1)\n",
    "        for i in range(len(pred_df)):\n",
    "            pred_df[i][:] = mean_item[i]\n",
    "            neighbor_indice = indices[i][1:]\n",
    "            for j in range(len(pred_df[i])):\n",
    "                if np.isnan(self.train_set[i][j]):\n",
    "                    pred_df[i][j] += np.nansum(self.similarity_matrix[i][neighbor_indice] * (\n",
    "                                self.train_set[:, j][neighbor_indice] - mean_item[neighbor_indice])) / np.sum(\n",
    "                        self.similarity_matrix[i][neighbor_indice])\n",
    "                else:\n",
    "                    pred_df[i][j] = np.nan\n",
    "        return pred_df\n",
    "    \n",
    "    # requested methods for sk-learn estimator\n",
    "    def get_params(self, deep = True):\n",
    "        return {\"k_neighbors\": self.k_neighbors, \"similarity_metrics\": self.similarity_metrics}\n",
    "\n",
    "    def set_params(self, **parameters):\n",
    "        for parameter, value in parameters.items():\n",
    "            setattr(self, parameter, value)\n",
    "        return self"
   ]
  },
  {
   "cell_type": "code",
   "execution_count": 72,
   "metadata": {},
   "outputs": [],
   "source": [
    "#LEYI: put the adjusted ItemBasedCF to the python file?"
   ]
  },
  {
   "cell_type": "code",
   "execution_count": 70,
   "metadata": {},
   "outputs": [],
   "source": [
    "model1 = ItemBasedCF(5, 'pearson')"
   ]
  },
  {
   "cell_type": "code",
   "execution_count": 71,
   "metadata": {},
   "outputs": [
    {
     "name": "stdout",
     "output_type": "stream",
     "text": [
      "training_time in seconds: 356.51662373542786\n"
     ]
    }
   ],
   "source": [
    "start = time.time()\n",
    "model1.fit(rating_matrix_train)\n",
    "# model1.fit(train_small)\n",
    "end = time.time()\n",
    "print(f'training_time in seconds: {end-start}')"
   ]
  },
  {
   "cell_type": "markdown",
   "metadata": {},
   "source": [
    "### 2.1.3 Model Tuning with Cross validation"
   ]
  },
  {
   "cell_type": "code",
   "execution_count": 64,
   "metadata": {},
   "outputs": [],
   "source": [
    "model1.train_set"
   ]
  },
  {
   "cell_type": "code",
   "execution_count": 65,
   "metadata": {},
   "outputs": [],
   "source": [
    "#LEYI: save the models' final weights to local, for greater speed?"
   ]
  },
  {
   "cell_type": "code",
   "execution_count": 80,
   "metadata": {},
   "outputs": [],
   "source": [
    "start = time.time()\n",
    "pred_set = model1.predict(rating_matrix_test)\n",
    "# pred_set = model1.predict(test_small)\n",
    "end = time.time()\n",
    "print(f'training_time in seconds: {end-start}')"
   ]
  },
  {
   "cell_type": "code",
   "execution_count": 138,
   "metadata": {},
   "outputs": [],
   "source": [
    "from sklearn.model_selection import GridSearchCV\n",
    "from sklearn.metrics import make_scorer"
   ]
  },
  {
   "cell_type": "markdown",
   "metadata": {},
   "source": [
    "LEYI: Reasons to use MAE:\n",
    "\n",
    "One large characteristic of Mean Average Error(MAE) does not give any bias to extrema in error terms. If there are outliers or large error terms, it will weigh those equally to the other predictions. Therefore, MAE should be preferred when looking toward rating accuracy when you’re not really looking toward the importance of outliers. To get a holistic view or representation of the Recommender System, use MAE.\n",
    "\n",
    "https://towardsdatascience.com/evaluating-recommender-systems-root-means-squared-error-or-mean-absolute-error-1744abc2beac"
   ]
  },
  {
   "cell_type": "code",
   "execution_count": 139,
   "metadata": {},
   "outputs": [],
   "source": [
    "# Reform loss function for gridsearch\n",
    "def My_MAE(pred, test):\n",
    "    try:\n",
    "        test = test.pivot(index='movieId', columns='userId', values='rating')\n",
    "    except:\n",
    "        pass\n",
    "    try: \n",
    "        pred = pred.pivot(index='movieId', columns='userId', values='rating')\n",
    "    except:\n",
    "        pass\n",
    "    return MAE(pred, test)\n",
    "scoring = make_scorer(MAE, greater_is_better = False)"
   ]
  },
  {
   "cell_type": "code",
   "execution_count": 140,
   "metadata": {},
   "outputs": [],
   "source": [
    "parameters = {'similarity_metrics':['pearson','cosine'], 'k_neighbors':np.arange(10,35,5)}\n",
    "model_test = ItemBasedCF()\n",
    "gs = GridSearchCV(model_test, parameters, scoring = scoring, cv=3)"
   ]
  },
  {
   "cell_type": "code",
   "execution_count": 142,
   "metadata": {
    "scrolled": false
   },
   "outputs": [],
   "source": [
    "gs.fit(df_sample, df_sample) #改成train set"
   ]
  },
  {
   "cell_type": "code",
   "execution_count": 136,
   "metadata": {},
   "outputs": [
    {
     "name": "stdout",
     "output_type": "stream",
     "text": [
      "{'k_neighbors': 10, 'similarity_metrics': 'pearson'}\n"
     ]
    }
   ],
   "source": [
    "print(gs.best_params_)"
   ]
  },
  {
   "cell_type": "code",
   "execution_count": 135,
   "metadata": {},
   "outputs": [
    {
     "name": "stdout",
     "output_type": "stream",
     "text": [
      "0.8884583973284366\n"
     ]
    }
   ],
   "source": [
    "print(gs.best_score_)"
   ]
  },
  {
   "cell_type": "code",
   "execution_count": 21,
   "metadata": {},
   "outputs": [],
   "source": [
    "#LEYI: add some markdown here? 简单说说最后模型用了啥param，最优结果是多少"
   ]
  },
  {
   "cell_type": "markdown",
   "metadata": {},
   "source": [
    "### 2.1.4 Model Evaluation"
   ]
  },
  {
   "cell_type": "markdown",
   "metadata": {},
   "source": [
    "How do the evaluation metrics change as a function of your model size? Systematically change your data set size by again sampling your data from a small size to a large size (25%, 50%, 75%, 100%):\n",
    "1. Does overall accuracy change?\n",
    "2. What about the distribution of accuracy over users or items?\n",
    "3. How does run-time scale with data size?"
   ]
  },
  {
   "cell_type": "code",
   "execution_count": 24,
   "metadata": {},
   "outputs": [],
   "source": [
    "#TODO: ADD PLOTS TO answer:\n",
    "#How does the evauation metrics change as sample size changes? like 25%, 50%, 75%, 100%\n",
    "#How does the training and testing runtime change as sample size changes? like 25%, 50%, 75%, 100%"
   ]
  },
  {
   "cell_type": "markdown",
   "metadata": {},
   "source": [
    "#### (1) Accuracy"
   ]
  },
  {
   "cell_type": "markdown",
   "metadata": {},
   "source": [
    "##### error-based accuracy"
   ]
  },
  {
   "cell_type": "code",
   "execution_count": 21,
   "metadata": {},
   "outputs": [
    {
     "data": {
      "text/plain": [
       "0.6885897602816633"
      ]
     },
     "execution_count": 21,
     "metadata": {},
     "output_type": "execute_result"
    }
   ],
   "source": [
    "MAE(rating_matrix_test, pred_set)"
   ]
  },
  {
   "cell_type": "code",
   "execution_count": 22,
   "metadata": {},
   "outputs": [
    {
     "data": {
      "text/plain": [
       "0.7899858612161919"
      ]
     },
     "execution_count": 22,
     "metadata": {},
     "output_type": "execute_result"
    }
   ],
   "source": [
    "MSE(rating_matrix_test, pred_set)"
   ]
  },
  {
   "cell_type": "code",
   "execution_count": 82,
   "metadata": {},
   "outputs": [],
   "source": [
    "from sklearn.metrics import recall_score\n",
    "from sklearn.metrics import roc_auc_score\n",
    "from sklearn.metrics import precision_score\n",
    "\n",
    "\n",
    "def recall(test, pred): #test, pred是2维矩阵\n",
    "    return recall_score(test.reshape(-1), pred.reshape(-1))    \n",
    "\n",
    "def auc(test, pred):\n",
    "    return roc_auc_score(test.reshape(-1), pred.reshape(-1))\n",
    "\n",
    "def precision(test, pred):\n",
    "    return precision_score(test.reshape(-1), pred.reshape(-1))\n",
    "\n",
    "#测试可以用之后，放进metrics.py"
   ]
  },
  {
   "cell_type": "markdown",
   "metadata": {},
   "source": [
    "##### ranking-based accuracy"
   ]
  },
  {
   "cell_type": "code",
   "execution_count": 29,
   "metadata": {},
   "outputs": [
    {
     "data": {
      "text/plain": [
       "22.91174836018709"
      ]
     },
     "execution_count": 29,
     "metadata": {},
     "output_type": "execute_result"
    }
   ],
   "source": [
    "dcg(rating_matrix_test.values, pred_set)"
   ]
  },
  {
   "cell_type": "code",
   "execution_count": null,
   "metadata": {},
   "outputs": [],
   "source": [
    "#TOADD: ndcg"
   ]
  },
  {
   "cell_type": "markdown",
   "metadata": {},
   "source": [
    "#### (2) Coverage"
   ]
  },
  {
   "cell_type": "code",
   "execution_count": null,
   "metadata": {},
   "outputs": [],
   "source": [
    "# user_coverage: the fraction of users for which at least k items can be recommended well\n",
    "user_coverage = cal_coverage(test, pred_set, threshold=3, coverage_type = 'user')\n",
    "\n",
    "# item_coverage: the fraction of items that can be recommended to at least k users well\n",
    "item_coverage = cal_coverage(test, pred_set, threshold=3, coverage_type = 'item')\n",
    "\n",
    "# catalog_coverage: the fraction of items that are in the top-k for at least 1 user\n",
    "catalog_coverage = cal_coverage(test, pred_set, coverage_type = 'catalog')"
   ]
  },
  {
   "cell_type": "markdown",
   "metadata": {},
   "source": [
    "#### (3)Scalability"
   ]
  },
  {
   "cell_type": "code",
   "execution_count": 25,
   "metadata": {},
   "outputs": [],
   "source": [
    "#add plots: runtime vs sample size "
   ]
  },
  {
   "cell_type": "code",
   "execution_count": null,
   "metadata": {},
   "outputs": [],
   "source": []
  },
  {
   "cell_type": "markdown",
   "metadata": {},
   "source": [
    "### 2.1.5 Reflection"
   ]
  },
  {
   "cell_type": "markdown",
   "metadata": {},
   "source": [
    "- Other design choices to consider?"
   ]
  },
  {
   "cell_type": "markdown",
   "metadata": {},
   "source": [
    "## 2.2 Model-based  Collaborative Filtering"
   ]
  },
  {
   "cell_type": "markdown",
   "metadata": {},
   "source": [
    "### 2.2.1 Data preprocessing"
   ]
  },
  {
   "cell_type": "code",
   "execution_count": 1,
   "metadata": {
    "ExecuteTime": {
     "end_time": "2020-11-12T16:43:33.668095Z",
     "start_time": "2020-11-12T16:43:27.386522Z"
    }
   },
   "outputs": [],
   "source": [
    "#initialize spark \n",
    "import pyspark\n",
    "from pyspark.sql import SparkSession\n",
    "spark = SparkSession.builder.appName(\"PySpark ML Basics\").getOrCreate()\n",
    "\n",
    "#process data into dataframe format \n",
    "df = spark.read.format('csv').options(header='true').load('./ml-latest/ratings.csv').toDF(\"userId\",  \"movieId\",  \"rating\",   \"timestamp\")\n",
    "\n",
    "from pyspark.sql.functions import *\n",
    "from pyspark.sql.types import *\n",
    "\n",
    "\n",
    "df = df.withColumn(\"userId\", df[\"userId\"].cast(IntegerType())). \\\n",
    "withColumn(\"movieId\", df[\"movieId\"].cast(IntegerType())). \\\n",
    "withColumn(\"rating\",df[\"rating\"].cast(FloatType())). \\\n",
    "withColumn(\"timestamp\", df['timestamp'].cast(LongType()))"
   ]
  },
  {
   "cell_type": "code",
   "execution_count": 2,
   "metadata": {
    "ExecuteTime": {
     "end_time": "2020-11-12T16:37:50.385360Z",
     "start_time": "2020-11-12T16:37:50.379877Z"
    }
   },
   "outputs": [
    {
     "name": "stdout",
     "output_type": "stream",
     "text": [
      "root\n",
      " |-- userId: integer (nullable = true)\n",
      " |-- movieId: integer (nullable = true)\n",
      " |-- rating: float (nullable = true)\n",
      " |-- timestamp: long (nullable = true)\n",
      "\n"
     ]
    }
   ],
   "source": [
    "df.printSchema()"
   ]
  },
  {
   "cell_type": "code",
   "execution_count": 30,
   "metadata": {},
   "outputs": [],
   "source": [
    "#统一下目录，根目录放notebooks、python文件和ml-latest文件夹。"
   ]
  },
  {
   "cell_type": "code",
   "execution_count": 31,
   "metadata": {},
   "outputs": [
    {
     "name": "stdout",
     "output_type": "stream",
     "text": [
      "+------+-------+------+----------+\n",
      "|userId|movieId|rating| timestamp|\n",
      "+------+-------+------+----------+\n",
      "|     1|    307|   3.5|1256677221|\n",
      "|     1|    481|   3.5|1256677456|\n",
      "|     1|   1091|   1.5|1256677471|\n",
      "|     1|   1257|   4.5|1256677460|\n",
      "|     1|   1449|   4.5|1256677264|\n",
      "+------+-------+------+----------+\n",
      "only showing top 5 rows\n",
      "\n"
     ]
    }
   ],
   "source": [
    "df.show(5)"
   ]
  },
  {
   "cell_type": "code",
   "execution_count": 2,
   "metadata": {
    "ExecuteTime": {
     "end_time": "2020-11-12T16:43:36.177830Z",
     "start_time": "2020-11-12T16:43:36.173065Z"
    }
   },
   "outputs": [],
   "source": [
    "def sample_df_pyspark(df, min_item=20, min_user=1000):\n",
    "    \n",
    "    users = df.groupby('userId').count()\n",
    "    users= users.withColumn('num_of_movies',users['count']).select('userId','num_of_movies')\n",
    "    \n",
    "    movies = df.groupby('movieId').count()\n",
    "    movies = movies.withColumn('num_of_users',movies['count']).select('movieId','num_of_users')\n",
    "    \n",
    "    tmp = movies.filter(movies.num_of_users>=min_user).\\\n",
    "                join(df,df.movieId==movies.movieId).\\\n",
    "                select(df.userId,df.movieId,df.rating,df.timestamp)\n",
    "    sample = users.filter(users.num_of_movies>=min_item).\\\n",
    "                join(tmp,tmp.userId==users.userId).\\\n",
    "                select(tmp.userId,tmp.movieId,tmp.rating,tmp.timestamp)\n",
    "\n",
    "    return sample "
   ]
  },
  {
   "cell_type": "code",
   "execution_count": 3,
   "metadata": {
    "ExecuteTime": {
     "end_time": "2020-11-12T16:43:47.203326Z",
     "start_time": "2020-11-12T16:43:46.994490Z"
    }
   },
   "outputs": [],
   "source": [
    "df_sample = sample_df_pyspark(df, min_item=200, min_user=5000)\n"
   ]
  },
  {
   "cell_type": "code",
   "execution_count": 4,
   "metadata": {
    "ExecuteTime": {
     "end_time": "2020-11-12T16:43:53.691527Z",
     "start_time": "2020-11-12T16:43:53.685909Z"
    }
   },
   "outputs": [
    {
     "name": "stdout",
     "output_type": "stream",
     "text": [
      "root\n",
      " |-- userId: integer (nullable = true)\n",
      " |-- movieId: integer (nullable = true)\n",
      " |-- rating: float (nullable = true)\n",
      " |-- timestamp: long (nullable = true)\n",
      "\n"
     ]
    }
   ],
   "source": [
    "df_sample.printSchema()"
   ]
  },
  {
   "cell_type": "code",
   "execution_count": 5,
   "metadata": {
    "ExecuteTime": {
     "end_time": "2020-11-12T16:44:00.160681Z",
     "start_time": "2020-11-12T16:44:00.110173Z"
    }
   },
   "outputs": [],
   "source": [
    "#train test split \n",
    "train,test=df_sample.orderBy(rand()).randomSplit((0.8,0.2),seed=1234)"
   ]
  },
  {
   "cell_type": "code",
   "execution_count": 6,
   "metadata": {
    "ExecuteTime": {
     "end_time": "2020-11-12T16:44:04.767177Z",
     "start_time": "2020-11-12T16:44:04.763156Z"
    }
   },
   "outputs": [
    {
     "name": "stdout",
     "output_type": "stream",
     "text": [
      "root\n",
      " |-- userId: integer (nullable = true)\n",
      " |-- movieId: integer (nullable = true)\n",
      " |-- rating: float (nullable = true)\n",
      " |-- timestamp: long (nullable = true)\n",
      "\n"
     ]
    }
   ],
   "source": [
    "train.printSchema()"
   ]
  },
  {
   "cell_type": "markdown",
   "metadata": {},
   "source": [
    "### 2.2.2 Model Training"
   ]
  },
  {
   "cell_type": "markdown",
   "metadata": {},
   "source": [
    "#### basic model"
   ]
  },
  {
   "cell_type": "code",
   "execution_count": 7,
   "metadata": {
    "ExecuteTime": {
     "end_time": "2020-11-12T16:46:28.133980Z",
     "start_time": "2020-11-12T16:44:18.070777Z"
    }
   },
   "outputs": [
    {
     "name": "stdout",
     "output_type": "stream",
     "text": [
      "mean absolute error = 0.6019798453183466\n"
     ]
    }
   ],
   "source": [
    "from pyspark.ml.evaluation import RegressionEvaluator\n",
    "from pyspark.ml.recommendation import ALS\n",
    "\n",
    "als = ALS(maxIter=5, regParam=0.01, userCol=\"userId\", itemCol=\"movieId\", ratingCol=\"rating\",\n",
    "          coldStartStrategy=\"drop\")\n",
    "model = als.fit(train)\n",
    "\n",
    "# Evaluate the model by computing the RMSE on the test data\n",
    "predictions = model.transform(test)\n",
    "evaluator = RegressionEvaluator(metricName=\"mae\", labelCol=\"rating\",\n",
    "                                predictionCol=\"prediction\")\n",
    "#改下MAE\n",
    "\n",
    "mae = evaluator.evaluate(predictions)\n",
    "print(\"mean absolute error = \" + str(mae))\n",
    "\n",
    "# Generate top 10 movie recommendations for each user\n",
    "#userRecs = model.recommendForAllUsers(10)\n",
    "# Generate top 10 user recommendations for each movie\n",
    "#movieRecs = model.recommendForAllItems(10)\n"
   ]
  },
  {
   "cell_type": "code",
   "execution_count": 13,
   "metadata": {
    "ExecuteTime": {
     "end_time": "2020-11-11T14:27:22.425973Z",
     "start_time": "2020-11-11T14:27:01.483227Z"
    }
   },
   "outputs": [
    {
     "data": {
      "text/plain": [
       "[Row(userId=244192, movieId=148, rating=3.0, timestamp=836248537, prediction=2.3838250637054443),\n",
       " Row(userId=120878, movieId=148, rating=2.5, timestamp=1328638308, prediction=2.84940767288208),\n",
       " Row(userId=175332, movieId=148, rating=4.0, timestamp=1027003224, prediction=3.6118969917297363),\n",
       " Row(userId=70539, movieId=148, rating=2.0, timestamp=1245473177, prediction=2.418025016784668)]"
      ]
     },
     "execution_count": 13,
     "metadata": {},
     "output_type": "execute_result"
    }
   ],
   "source": [
    "predictions.take(4)"
   ]
  },
  {
   "cell_type": "code",
   "execution_count": 39,
   "metadata": {},
   "outputs": [],
   "source": [
    "#LEYI: can try the implicit ALS model\n",
    "#als = ALS(maxIter=5, regParam=0.01, implicitPrefs=True,\n",
    "#           userCol=\"userId\", itemCol=\"movieId\", ratingCol=\"rating\")"
   ]
  },
  {
   "cell_type": "markdown",
   "metadata": {},
   "source": [
    "### 2.2.3 Model Tuning with Cross validation"
   ]
  },
  {
   "cell_type": "code",
   "execution_count": 38,
   "metadata": {},
   "outputs": [],
   "source": [
    "from pyspark.ml.tuning import CrossValidator, ParamGridBuilder \n",
    "\n",
    "\n",
    "paramGrid = ParamGridBuilder() \\\n",
    "    .addGrid(als.maxIter,[5,10,20]) \\\n",
    "    .addGrid(als.regParam, [0.1, 0.01,0.001]) \\\n",
    "    .build()\n",
    "\n",
    "crossval = CrossValidator(estimator=als,\n",
    "                          estimatorParamMaps=paramGrid,\n",
    "                          evaluator=RegressionEvaluator(metricName=\"rmse\", labelCol=\"rating\",\n",
    "                                predictionCol=\"prediction\"),\n",
    "                          numFolds=5)  # use 3+ folds in practice\n",
    "\n",
    "# Run cross-validation, and choose the best set of parameters.\n",
    "cvModel = crossval.fit(train)\n",
    "\n",
    "\n",
    "# Make predictions on test documents. cvModel uses the best model found (lrModel).\n",
    "prediction = cvModel.transform(test)\n",
    "# selected = prediction.select(\"id\", \"text\", \"probability\", \"prediction\")\n",
    "# for row in selected.collect():\n",
    "#     print(row)"
   ]
  },
  {
   "cell_type": "code",
   "execution_count": 40,
   "metadata": {},
   "outputs": [
    {
     "data": {
      "text/plain": [
       "[0.8451558696539513,\n",
       " 0.9151348591919473,\n",
       " 1.0268111748186513,\n",
       " 0.8377148472890943,\n",
       " 0.926466214157285,\n",
       " 0.9784548394407311,\n",
       " 0.8354033203589148,\n",
       " 0.9294359400831407,\n",
       " 0.9990644631688819]"
      ]
     },
     "execution_count": 40,
     "metadata": {},
     "output_type": "execute_result"
    }
   ],
   "source": [
    "cvModel.avgMetrics"
   ]
  },
  {
   "cell_type": "code",
   "execution_count": 41,
   "metadata": {},
   "outputs": [
    {
     "data": {
      "text/plain": [
       "[{Param(parent='ALS_ede51d40cd25', name='maxIter', doc='max number of iterations (>= 0).'): 5,\n",
       "  Param(parent='ALS_ede51d40cd25', name='regParam', doc='regularization parameter (>= 0).'): 0.1},\n",
       " {Param(parent='ALS_ede51d40cd25', name='maxIter', doc='max number of iterations (>= 0).'): 5,\n",
       "  Param(parent='ALS_ede51d40cd25', name='regParam', doc='regularization parameter (>= 0).'): 0.01},\n",
       " {Param(parent='ALS_ede51d40cd25', name='maxIter', doc='max number of iterations (>= 0).'): 5,\n",
       "  Param(parent='ALS_ede51d40cd25', name='regParam', doc='regularization parameter (>= 0).'): 0.001},\n",
       " {Param(parent='ALS_ede51d40cd25', name='maxIter', doc='max number of iterations (>= 0).'): 10,\n",
       "  Param(parent='ALS_ede51d40cd25', name='regParam', doc='regularization parameter (>= 0).'): 0.1},\n",
       " {Param(parent='ALS_ede51d40cd25', name='maxIter', doc='max number of iterations (>= 0).'): 10,\n",
       "  Param(parent='ALS_ede51d40cd25', name='regParam', doc='regularization parameter (>= 0).'): 0.01},\n",
       " {Param(parent='ALS_ede51d40cd25', name='maxIter', doc='max number of iterations (>= 0).'): 10,\n",
       "  Param(parent='ALS_ede51d40cd25', name='regParam', doc='regularization parameter (>= 0).'): 0.001},\n",
       " {Param(parent='ALS_ede51d40cd25', name='maxIter', doc='max number of iterations (>= 0).'): 20,\n",
       "  Param(parent='ALS_ede51d40cd25', name='regParam', doc='regularization parameter (>= 0).'): 0.1},\n",
       " {Param(parent='ALS_ede51d40cd25', name='maxIter', doc='max number of iterations (>= 0).'): 20,\n",
       "  Param(parent='ALS_ede51d40cd25', name='regParam', doc='regularization parameter (>= 0).'): 0.01},\n",
       " {Param(parent='ALS_ede51d40cd25', name='maxIter', doc='max number of iterations (>= 0).'): 20,\n",
       "  Param(parent='ALS_ede51d40cd25', name='regParam', doc='regularization parameter (>= 0).'): 0.001}]"
      ]
     },
     "execution_count": 41,
     "metadata": {},
     "output_type": "execute_result"
    }
   ],
   "source": [
    "cvModel.getEstimatorParamMaps()           "
   ]
  },
  {
   "cell_type": "markdown",
   "metadata": {},
   "source": [
    "### 2.2.4 Model Evaluation"
   ]
  },
  {
   "cell_type": "markdown",
   "metadata": {},
   "source": [
    "- ROC-based metrics (recall, precision, roc curve, auc)\n",
    "- DCG\n",
    "- coverage\n",
    "- scalability"
   ]
  },
  {
   "cell_type": "code",
   "execution_count": 8,
   "metadata": {
    "ExecuteTime": {
     "end_time": "2020-11-12T16:47:57.279826Z",
     "start_time": "2020-11-12T16:47:57.277029Z"
    }
   },
   "outputs": [],
   "source": [
    "from pyspark.ml.feature import VectorAssembler\n",
    "from pyspark.ml.linalg import Vectors\n",
    "from pyspark.ml.linalg import Matrix\n"
   ]
  },
  {
   "cell_type": "code",
   "execution_count": 14,
   "metadata": {
    "ExecuteTime": {
     "end_time": "2020-11-12T16:57:45.514641Z",
     "start_time": "2020-11-12T16:57:45.184148Z"
    }
   },
   "outputs": [],
   "source": [
    "df_sample.createOrReplaceTempView(\"sample\")\n",
    "sample_users = spark.sql(\"select distinct userId from sample limit 1000\")"
   ]
  },
  {
   "cell_type": "code",
   "execution_count": 16,
   "metadata": {
    "ExecuteTime": {
     "end_time": "2020-11-12T16:58:24.046268Z",
     "start_time": "2020-11-12T16:58:23.784784Z"
    }
   },
   "outputs": [],
   "source": [
    "userRecs = model.recommendForUserSubset(sample_users,10)"
   ]
  },
  {
   "cell_type": "code",
   "execution_count": 17,
   "metadata": {
    "ExecuteTime": {
     "end_time": "2020-11-12T16:59:20.392553Z",
     "start_time": "2020-11-12T16:58:37.196209Z"
    }
   },
   "outputs": [
    {
     "name": "stdout",
     "output_type": "stream",
     "text": [
      "+------+--------------------+\n",
      "|userId|     recommendations|\n",
      "+------+--------------------+\n",
      "|   471|[[318, 3.9867065]...|\n",
      "+------+--------------------+\n",
      "only showing top 1 row\n",
      "\n"
     ]
    }
   ],
   "source": [
    "userRecs.show(1)"
   ]
  },
  {
   "cell_type": "code",
   "execution_count": 34,
   "metadata": {
    "ExecuteTime": {
     "end_time": "2020-11-12T17:09:41.209095Z",
     "start_time": "2020-11-12T17:08:57.847886Z"
    }
   },
   "outputs": [],
   "source": [
    "test = userRecs.filter(userRecs.userId==471).rdd.map(lambda x:x[0])"
   ]
  },
  {
   "cell_type": "code",
   "execution_count": 28,
   "metadata": {
    "ExecuteTime": {
     "end_time": "2020-11-12T17:03:26.552194Z",
     "start_time": "2020-11-12T17:03:26.543808Z"
    }
   },
   "outputs": [
    {
     "ename": "AttributeError",
     "evalue": "'DataFrame' object has no attribute 'to_pandas'",
     "output_type": "error",
     "traceback": [
      "\u001b[0;31m---------------------------------------------------------------------------\u001b[0m",
      "\u001b[0;31mAttributeError\u001b[0m                            Traceback (most recent call last)",
      "\u001b[0;32m<ipython-input-28-f7100cfabff6>\u001b[0m in \u001b[0;36m<module>\u001b[0;34m\u001b[0m\n\u001b[0;32m----> 1\u001b[0;31m \u001b[0muserRecs\u001b[0m\u001b[0;34m.\u001b[0m\u001b[0mto_pandas\u001b[0m\u001b[0;34m(\u001b[0m\u001b[0;34m)\u001b[0m\u001b[0;34m\u001b[0m\u001b[0;34m\u001b[0m\u001b[0m\n\u001b[0m",
      "\u001b[0;32m~/anaconda3/lib/python3.7/site-packages/pyspark/sql/dataframe.py\u001b[0m in \u001b[0;36m__getattr__\u001b[0;34m(self, name)\u001b[0m\n\u001b[1;32m   1302\u001b[0m         \u001b[0;32mif\u001b[0m \u001b[0mname\u001b[0m \u001b[0;32mnot\u001b[0m \u001b[0;32min\u001b[0m \u001b[0mself\u001b[0m\u001b[0;34m.\u001b[0m\u001b[0mcolumns\u001b[0m\u001b[0;34m:\u001b[0m\u001b[0;34m\u001b[0m\u001b[0;34m\u001b[0m\u001b[0m\n\u001b[1;32m   1303\u001b[0m             raise AttributeError(\n\u001b[0;32m-> 1304\u001b[0;31m                 \"'%s' object has no attribute '%s'\" % (self.__class__.__name__, name))\n\u001b[0m\u001b[1;32m   1305\u001b[0m         \u001b[0mjc\u001b[0m \u001b[0;34m=\u001b[0m \u001b[0mself\u001b[0m\u001b[0;34m.\u001b[0m\u001b[0m_jdf\u001b[0m\u001b[0;34m.\u001b[0m\u001b[0mapply\u001b[0m\u001b[0;34m(\u001b[0m\u001b[0mname\u001b[0m\u001b[0;34m)\u001b[0m\u001b[0;34m\u001b[0m\u001b[0;34m\u001b[0m\u001b[0m\n\u001b[1;32m   1306\u001b[0m         \u001b[0;32mreturn\u001b[0m \u001b[0mColumn\u001b[0m\u001b[0;34m(\u001b[0m\u001b[0mjc\u001b[0m\u001b[0;34m)\u001b[0m\u001b[0;34m\u001b[0m\u001b[0;34m\u001b[0m\u001b[0m\n",
      "\u001b[0;31mAttributeError\u001b[0m: 'DataFrame' object has no attribute 'to_pandas'"
     ]
    }
   ],
   "source": [
    "# import org.apache.spark.mllib.linalg.{Vectors, Matrices}\n",
    "# import org.apache.spark.mllib.linalg.distributed.RowMatrix\n",
    "# import scala.collection.mutable.WrappedArray\n",
    "\n",
    "\n",
    "# val Xi = model.userFactors\n",
    "#     .filter($\"id\" === 0)\n",
    "#     .rdd\n",
    "#     .map(r=>r(1))\n",
    "#     .map(a => a.asInstanceOf[WrappedArray[Float]]\n",
    "#          .map(i => i.toString.toDouble).toArray)\n",
    "# val Xi_mat = new RowMatrix(Xi.map(e => Vectors.dense(e)))\n"
   ]
  },
  {
   "cell_type": "code",
   "execution_count": null,
   "metadata": {},
   "outputs": [],
   "source": []
  },
  {
   "cell_type": "code",
   "execution_count": null,
   "metadata": {},
   "outputs": [],
   "source": [
    "#transfer userRecs to matrix = model.recommendForAllUsers(10)\n",
    "\n",
    "def reco2user_als(model, k_items=10):\n",
    "    #ecommend top k movies for each user\n",
    "    userRecs = model.recommendForAllUsers(k_items) \n",
    "    reco = np.zeros(matrix.shape)\n",
    "    m = matrix.shape[1]\n",
    "    topK = np.argsort(-matrix, axis=0)[:k_items,:]\n",
    "    for i in range(m):\n",
    "        indice = topK[:,i]     #the k movies that are recommended to user i\n",
    "        reco[:,i][indice] = 1  #set the recommended movies as 1 \n",
    "    return reco\n"
   ]
  },
  {
   "cell_type": "code",
   "execution_count": 43,
   "metadata": {},
   "outputs": [],
   "source": [
    "#TODO: LEYI"
   ]
  },
  {
   "cell_type": "markdown",
   "metadata": {},
   "source": [
    "### 2.2.5 Reflection"
   ]
  },
  {
   "cell_type": "markdown",
   "metadata": {},
   "source": [
    "- Other design choices to consider?"
   ]
  },
  {
   "cell_type": "markdown",
   "metadata": {},
   "source": [
    "# 3. Final Recommendation"
   ]
  },
  {
   "cell_type": "markdown",
   "metadata": {},
   "source": [
    "• How does your recommendation system meet your hypothetical objectives? Would you feel comfortable putting these solutions into production at a real company? What would be the potential watch outs?\n",
    "\n",
    "• What is your final recommendation to your manager?"
   ]
  },
  {
   "cell_type": "markdown",
   "metadata": {},
   "source": [
    "- Final recommendation to your manager\n",
    "- Reasons and potential watch outs "
   ]
  },
  {
   "cell_type": "code",
   "execution_count": null,
   "metadata": {},
   "outputs": [],
   "source": [
    "#举例"
   ]
  }
 ],
 "metadata": {
  "kernelspec": {
   "display_name": "Python 3",
   "language": "python",
   "name": "python3"
  },
  "language_info": {
   "codemirror_mode": {
    "name": "ipython",
    "version": 3
   },
   "file_extension": ".py",
   "mimetype": "text/x-python",
   "name": "python",
   "nbconvert_exporter": "python",
   "pygments_lexer": "ipython3",
   "version": "3.7.6"
  },
  "toc": {
   "base_numbering": 1,
   "nav_menu": {},
   "number_sections": true,
   "sideBar": true,
   "skip_h1_title": false,
   "title_cell": "Table of Contents",
   "title_sidebar": "Contents",
   "toc_cell": false,
   "toc_position": {},
   "toc_section_display": true,
   "toc_window_display": false
  },
  "varInspector": {
   "cols": {
    "lenName": 16,
    "lenType": 16,
    "lenVar": 40
   },
   "kernels_config": {
    "python": {
     "delete_cmd_postfix": "",
     "delete_cmd_prefix": "del ",
     "library": "var_list.py",
     "varRefreshCmd": "print(var_dic_list())"
    },
    "r": {
     "delete_cmd_postfix": ") ",
     "delete_cmd_prefix": "rm(",
     "library": "var_list.r",
     "varRefreshCmd": "cat(var_dic_list()) "
    }
   },
   "types_to_exclude": [
    "module",
    "function",
    "builtin_function_or_method",
    "instance",
    "_Feature"
   ],
   "window_display": false
  }
 },
 "nbformat": 4,
 "nbformat_minor": 2
}
