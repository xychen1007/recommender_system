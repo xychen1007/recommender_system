{
 "cells": [
  {
   "cell_type": "markdown",
   "metadata": {},
   "source": [
    "# 1. Business Objectives"
   ]
  },
  {
   "cell_type": "markdown",
   "metadata": {},
   "source": [
    "- Objective function\t\t \t \t \t\t\n",
    "- Any metric you wish to optimize in addition to accuracy \n",
    "- The intended user \n",
    "- Any business rules you think will be important \n",
    "- Performance requirements (time and/or complexity) \n",
    "- And more (for example: interpretability, diversity, novelty, etc) \t\t"
   ]
  },
  {
   "cell_type": "markdown",
   "metadata": {},
   "source": [
    "# 2. Model Exploration & Evaluation "
   ]
  },
  {
   "cell_type": "code",
   "execution_count": 2,
   "metadata": {
    "ExecuteTime": {
     "end_time": "2020-11-05T03:33:48.358697Z",
     "start_time": "2020-11-05T03:33:46.533260Z"
    }
   },
   "outputs": [],
   "source": [
    "# import packages\n",
    "import pandas as pd\n",
    "import numpy as np\n",
    "import matplotlib.pyplot as plt\n",
    "import seaborn as sns\n",
    "import time\n",
    "from sklearn.model_selection import train_test_split\n",
    "from item_based_cf import *\n",
    "from metrics_helper import *"
   ]
  },
  {
   "cell_type": "code",
   "execution_count": 4,
   "metadata": {
    "ExecuteTime": {
     "end_time": "2020-11-05T03:33:10.419244Z",
     "start_time": "2020-11-05T03:33:02.977773Z"
    }
   },
   "outputs": [],
   "source": [
    "df = pd.read_csv('./ml-latest/ratings.csv')\n",
    "df.drop(\"timestamp\", inplace=True, axis=1)"
   ]
  },
  {
   "cell_type": "code",
   "execution_count": 3,
   "metadata": {},
   "outputs": [
    {
     "name": "stdout",
     "output_type": "stream",
     "text": [
      "The number of unique users is 283228\n",
      "The number of unique items is 53889\n",
      "The sparsity is 99.818%\n"
     ]
    },
    {
     "data": {
      "image/png": "[encoded data removed]",
      "text/plain": [
       "<Figure size 864x432 with 1 Axes>"
      ]
     },
     "metadata": {
      "needs_background": "light"
     },
     "output_type": "display_data"
    }
   ],
   "source": [
    "n_users = df['userId'].nunique()\n",
    "n_items = df['movieId'].nunique()\n",
    "sparsity = round(1.0-len(df)/float(n_users*n_items),5)\n",
    "print(f'The number of unique users is {n_users}')\n",
    "print(f'The number of unique items is {n_items}')\n",
    "print(f'The sparsity is {sparsity*100}%')\n",
    "\n",
    "fig, ax = plt.subplots(figsize=(12,6))\n",
    "fig = sns.distplot(df['movieId'])\n",
    "ax.set_ylabel('Percentage of Users Rating the Movie', size=18)\n",
    "ax.set_xlabel('MovieID', size=18)\n",
    "ax.set_title('Ratings Distribution by Movies', size=20)\n",
    "plt.show()"
   ]
  },
  {
   "cell_type": "markdown",
   "metadata": {},
   "source": [
    "## 2.1 Memory-based Collaborative Filtering"
   ]
  },
  {
   "cell_type": "markdown",
   "metadata": {},
   "source": [
    "### 2.1.1 Data preprocessing"
   ]
  },
  {
   "cell_type": "code",
   "execution_count": 4,
   "metadata": {},
   "outputs": [
    {
     "name": "stdout",
     "output_type": "stream",
     "text": [
      "number of users: 423\n",
      "number of items: 685\n",
      "shape of sampled df: (215855, 3)\n"
     ]
    }
   ],
   "source": [
    "##default param is 300 and 6800, which can satisfy hw requirement, and it takes about 6 hours to train and predict\n",
    "df_sample = sample_df(df, min_item=2000, min_user=10000)"
   ]
  },
  {
   "cell_type": "code",
   "execution_count": 5,
   "metadata": {},
   "outputs": [],
   "source": [
    "train_set, test_set = train_test_split(df_sample, test_size=0.50)\n",
    "train_set, valid_set = train_test_split(train_set, test_size=0.2)\n",
    "rating_matrix_train = train_set.pivot(index='movieId', columns='userId', values='rating')\n",
    "rating_matrix_test = test_set.pivot(index='movieId', columns='userId', values='rating')"
   ]
  },
  {
   "cell_type": "markdown",
   "metadata": {},
   "source": [
    "### 2.1.2 Model Training "
   ]
  },
  {
   "cell_type": "code",
   "execution_count": 6,
   "metadata": {},
   "outputs": [],
   "source": [
    "model1 = ItemBasedCF(100, 'pearson')"
   ]
  },
  {
   "cell_type": "code",
   "execution_count": 7,
   "metadata": {},
   "outputs": [
    {
     "name": "stdout",
     "output_type": "stream",
     "text": [
      "training_time213.83071613311768\n"
     ]
    }
   ],
   "source": [
    "start = time.time()\n",
    "model1.train(rating_matrix_train)\n",
    "end = time.time()\n",
    "print(f'training_time{end-start}')"
   ]
  },
  {
   "cell_type": "markdown",
   "metadata": {},
   "source": [
    "### 2.1.3 Model Tuning with Cross validation"
   ]
  },
  {
   "cell_type": "code",
   "execution_count": 8,
   "metadata": {},
   "outputs": [
    {
     "data": {
      "text/plain": [
       "array([[3.5, 5. , 5. , ..., 5. , 2. , 4.5],\n",
       "       [nan, nan, 3.5, ..., 3. , nan, nan],\n",
       "       [nan, 2.5, 4. , ..., nan, nan, nan],\n",
       "       ...,\n",
       "       [nan, nan, nan, ..., nan, nan, 3.5],\n",
       "       [nan, nan, nan, ..., nan, nan, nan],\n",
       "       [nan, 4.5, nan, ..., nan, nan, nan]])"
      ]
     },
     "execution_count": 8,
     "metadata": {},
     "output_type": "execute_result"
    }
   ],
   "source": [
    "model1.train_set"
   ]
  },
  {
   "cell_type": "code",
   "execution_count": 18,
   "metadata": {},
   "outputs": [],
   "source": [
    "pred_set = model1.predict(rating_matrix_test)"
   ]
  },
  {
   "cell_type": "code",
   "execution_count": 20,
   "metadata": {},
   "outputs": [
    {
     "data": {
      "text/html": [
       "<div>\n",
       "<style scoped>\n",
       "    .dataframe tbody tr th:only-of-type {\n",
       "        vertical-align: middle;\n",
       "    }\n",
       "\n",
       "    .dataframe tbody tr th {\n",
       "        vertical-align: top;\n",
       "    }\n",
       "\n",
       "    .dataframe thead th {\n",
       "        text-align: right;\n",
       "    }\n",
       "</style>\n",
       "<table border=\"1\" class=\"dataframe\">\n",
       "  <thead>\n",
       "    <tr style=\"text-align: right;\">\n",
       "      <th>userId</th>\n",
       "      <th>1272</th>\n",
       "      <th>2025</th>\n",
       "      <th>2150</th>\n",
       "      <th>2294</th>\n",
       "      <th>2329</th>\n",
       "      <th>2551</th>\n",
       "      <th>2629</th>\n",
       "      <th>4027</th>\n",
       "      <th>4605</th>\n",
       "      <th>4796</th>\n",
       "      <th>...</th>\n",
       "      <th>276799</th>\n",
       "      <th>277685</th>\n",
       "      <th>278022</th>\n",
       "      <th>278420</th>\n",
       "      <th>280148</th>\n",
       "      <th>280585</th>\n",
       "      <th>280868</th>\n",
       "      <th>281631</th>\n",
       "      <th>281790</th>\n",
       "      <th>283000</th>\n",
       "    </tr>\n",
       "    <tr>\n",
       "      <th>movieId</th>\n",
       "      <th></th>\n",
       "      <th></th>\n",
       "      <th></th>\n",
       "      <th></th>\n",
       "      <th></th>\n",
       "      <th></th>\n",
       "      <th></th>\n",
       "      <th></th>\n",
       "      <th></th>\n",
       "      <th></th>\n",
       "      <th></th>\n",
       "      <th></th>\n",
       "      <th></th>\n",
       "      <th></th>\n",
       "      <th></th>\n",
       "      <th></th>\n",
       "      <th></th>\n",
       "      <th></th>\n",
       "      <th></th>\n",
       "      <th></th>\n",
       "      <th></th>\n",
       "    </tr>\n",
       "  </thead>\n",
       "  <tbody>\n",
       "    <tr>\n",
       "      <th>1</th>\n",
       "      <td>NaN</td>\n",
       "      <td>NaN</td>\n",
       "      <td>NaN</td>\n",
       "      <td>NaN</td>\n",
       "      <td>5.0</td>\n",
       "      <td>NaN</td>\n",
       "      <td>5.0</td>\n",
       "      <td>NaN</td>\n",
       "      <td>NaN</td>\n",
       "      <td>2.5</td>\n",
       "      <td>...</td>\n",
       "      <td>4.5</td>\n",
       "      <td>NaN</td>\n",
       "      <td>2.0</td>\n",
       "      <td>NaN</td>\n",
       "      <td>5.0</td>\n",
       "      <td>5.0</td>\n",
       "      <td>NaN</td>\n",
       "      <td>NaN</td>\n",
       "      <td>NaN</td>\n",
       "      <td>NaN</td>\n",
       "    </tr>\n",
       "    <tr>\n",
       "      <th>2</th>\n",
       "      <td>NaN</td>\n",
       "      <td>2.0</td>\n",
       "      <td>NaN</td>\n",
       "      <td>NaN</td>\n",
       "      <td>3.0</td>\n",
       "      <td>1.0</td>\n",
       "      <td>3.5</td>\n",
       "      <td>4.0</td>\n",
       "      <td>1.5</td>\n",
       "      <td>NaN</td>\n",
       "      <td>...</td>\n",
       "      <td>3.0</td>\n",
       "      <td>NaN</td>\n",
       "      <td>NaN</td>\n",
       "      <td>2.5</td>\n",
       "      <td>NaN</td>\n",
       "      <td>NaN</td>\n",
       "      <td>NaN</td>\n",
       "      <td>NaN</td>\n",
       "      <td>NaN</td>\n",
       "      <td>NaN</td>\n",
       "    </tr>\n",
       "    <tr>\n",
       "      <th>3</th>\n",
       "      <td>NaN</td>\n",
       "      <td>NaN</td>\n",
       "      <td>NaN</td>\n",
       "      <td>NaN</td>\n",
       "      <td>NaN</td>\n",
       "      <td>1.5</td>\n",
       "      <td>NaN</td>\n",
       "      <td>NaN</td>\n",
       "      <td>NaN</td>\n",
       "      <td>NaN</td>\n",
       "      <td>...</td>\n",
       "      <td>NaN</td>\n",
       "      <td>NaN</td>\n",
       "      <td>NaN</td>\n",
       "      <td>3.5</td>\n",
       "      <td>NaN</td>\n",
       "      <td>NaN</td>\n",
       "      <td>2.5</td>\n",
       "      <td>NaN</td>\n",
       "      <td>NaN</td>\n",
       "      <td>NaN</td>\n",
       "    </tr>\n",
       "    <tr>\n",
       "      <th>5</th>\n",
       "      <td>NaN</td>\n",
       "      <td>NaN</td>\n",
       "      <td>3.5</td>\n",
       "      <td>NaN</td>\n",
       "      <td>NaN</td>\n",
       "      <td>NaN</td>\n",
       "      <td>NaN</td>\n",
       "      <td>NaN</td>\n",
       "      <td>NaN</td>\n",
       "      <td>NaN</td>\n",
       "      <td>...</td>\n",
       "      <td>NaN</td>\n",
       "      <td>2.5</td>\n",
       "      <td>NaN</td>\n",
       "      <td>3.5</td>\n",
       "      <td>3.0</td>\n",
       "      <td>NaN</td>\n",
       "      <td>NaN</td>\n",
       "      <td>NaN</td>\n",
       "      <td>NaN</td>\n",
       "      <td>3.5</td>\n",
       "    </tr>\n",
       "    <tr>\n",
       "      <th>6</th>\n",
       "      <td>NaN</td>\n",
       "      <td>NaN</td>\n",
       "      <td>4.5</td>\n",
       "      <td>3.5</td>\n",
       "      <td>NaN</td>\n",
       "      <td>2.0</td>\n",
       "      <td>NaN</td>\n",
       "      <td>5.0</td>\n",
       "      <td>NaN</td>\n",
       "      <td>3.5</td>\n",
       "      <td>...</td>\n",
       "      <td>NaN</td>\n",
       "      <td>3.0</td>\n",
       "      <td>NaN</td>\n",
       "      <td>NaN</td>\n",
       "      <td>NaN</td>\n",
       "      <td>4.5</td>\n",
       "      <td>4.0</td>\n",
       "      <td>3.0</td>\n",
       "      <td>NaN</td>\n",
       "      <td>NaN</td>\n",
       "    </tr>\n",
       "    <tr>\n",
       "      <th>...</th>\n",
       "      <td>...</td>\n",
       "      <td>...</td>\n",
       "      <td>...</td>\n",
       "      <td>...</td>\n",
       "      <td>...</td>\n",
       "      <td>...</td>\n",
       "      <td>...</td>\n",
       "      <td>...</td>\n",
       "      <td>...</td>\n",
       "      <td>...</td>\n",
       "      <td>...</td>\n",
       "      <td>...</td>\n",
       "      <td>...</td>\n",
       "      <td>...</td>\n",
       "      <td>...</td>\n",
       "      <td>...</td>\n",
       "      <td>...</td>\n",
       "      <td>...</td>\n",
       "      <td>...</td>\n",
       "      <td>...</td>\n",
       "      <td>...</td>\n",
       "    </tr>\n",
       "    <tr>\n",
       "      <th>122882</th>\n",
       "      <td>NaN</td>\n",
       "      <td>5.0</td>\n",
       "      <td>NaN</td>\n",
       "      <td>3.0</td>\n",
       "      <td>3.5</td>\n",
       "      <td>NaN</td>\n",
       "      <td>NaN</td>\n",
       "      <td>NaN</td>\n",
       "      <td>NaN</td>\n",
       "      <td>2.0</td>\n",
       "      <td>...</td>\n",
       "      <td>NaN</td>\n",
       "      <td>NaN</td>\n",
       "      <td>3.5</td>\n",
       "      <td>NaN</td>\n",
       "      <td>NaN</td>\n",
       "      <td>NaN</td>\n",
       "      <td>NaN</td>\n",
       "      <td>NaN</td>\n",
       "      <td>NaN</td>\n",
       "      <td>4.5</td>\n",
       "    </tr>\n",
       "    <tr>\n",
       "      <th>122886</th>\n",
       "      <td>2.5</td>\n",
       "      <td>4.5</td>\n",
       "      <td>NaN</td>\n",
       "      <td>NaN</td>\n",
       "      <td>NaN</td>\n",
       "      <td>NaN</td>\n",
       "      <td>NaN</td>\n",
       "      <td>NaN</td>\n",
       "      <td>NaN</td>\n",
       "      <td>NaN</td>\n",
       "      <td>...</td>\n",
       "      <td>NaN</td>\n",
       "      <td>NaN</td>\n",
       "      <td>NaN</td>\n",
       "      <td>3.5</td>\n",
       "      <td>NaN</td>\n",
       "      <td>NaN</td>\n",
       "      <td>3.5</td>\n",
       "      <td>NaN</td>\n",
       "      <td>NaN</td>\n",
       "      <td>4.5</td>\n",
       "    </tr>\n",
       "    <tr>\n",
       "      <th>122904</th>\n",
       "      <td>NaN</td>\n",
       "      <td>3.5</td>\n",
       "      <td>NaN</td>\n",
       "      <td>NaN</td>\n",
       "      <td>NaN</td>\n",
       "      <td>NaN</td>\n",
       "      <td>NaN</td>\n",
       "      <td>NaN</td>\n",
       "      <td>NaN</td>\n",
       "      <td>NaN</td>\n",
       "      <td>...</td>\n",
       "      <td>NaN</td>\n",
       "      <td>NaN</td>\n",
       "      <td>4.0</td>\n",
       "      <td>4.5</td>\n",
       "      <td>NaN</td>\n",
       "      <td>NaN</td>\n",
       "      <td>NaN</td>\n",
       "      <td>NaN</td>\n",
       "      <td>NaN</td>\n",
       "      <td>NaN</td>\n",
       "    </tr>\n",
       "    <tr>\n",
       "      <th>134130</th>\n",
       "      <td>NaN</td>\n",
       "      <td>4.0</td>\n",
       "      <td>NaN</td>\n",
       "      <td>2.0</td>\n",
       "      <td>NaN</td>\n",
       "      <td>NaN</td>\n",
       "      <td>NaN</td>\n",
       "      <td>NaN</td>\n",
       "      <td>NaN</td>\n",
       "      <td>3.0</td>\n",
       "      <td>...</td>\n",
       "      <td>NaN</td>\n",
       "      <td>NaN</td>\n",
       "      <td>NaN</td>\n",
       "      <td>3.0</td>\n",
       "      <td>NaN</td>\n",
       "      <td>NaN</td>\n",
       "      <td>NaN</td>\n",
       "      <td>NaN</td>\n",
       "      <td>NaN</td>\n",
       "      <td>4.0</td>\n",
       "    </tr>\n",
       "    <tr>\n",
       "      <th>134853</th>\n",
       "      <td>3.5</td>\n",
       "      <td>NaN</td>\n",
       "      <td>NaN</td>\n",
       "      <td>NaN</td>\n",
       "      <td>NaN</td>\n",
       "      <td>NaN</td>\n",
       "      <td>NaN</td>\n",
       "      <td>NaN</td>\n",
       "      <td>NaN</td>\n",
       "      <td>NaN</td>\n",
       "      <td>...</td>\n",
       "      <td>NaN</td>\n",
       "      <td>NaN</td>\n",
       "      <td>NaN</td>\n",
       "      <td>4.0</td>\n",
       "      <td>NaN</td>\n",
       "      <td>NaN</td>\n",
       "      <td>NaN</td>\n",
       "      <td>NaN</td>\n",
       "      <td>NaN</td>\n",
       "      <td>4.5</td>\n",
       "    </tr>\n",
       "  </tbody>\n",
       "</table>\n",
       "<p>685 rows × 423 columns</p>\n",
       "</div>"
      ],
      "text/plain": [
       "userId   1272    2025    2150    2294    2329    2551    2629    4027    \\\n",
       "movieId                                                                   \n",
       "1           NaN     NaN     NaN     NaN     5.0     NaN     5.0     NaN   \n",
       "2           NaN     2.0     NaN     NaN     3.0     1.0     3.5     4.0   \n",
       "3           NaN     NaN     NaN     NaN     NaN     1.5     NaN     NaN   \n",
       "5           NaN     NaN     3.5     NaN     NaN     NaN     NaN     NaN   \n",
       "6           NaN     NaN     4.5     3.5     NaN     2.0     NaN     5.0   \n",
       "...         ...     ...     ...     ...     ...     ...     ...     ...   \n",
       "122882      NaN     5.0     NaN     3.0     3.5     NaN     NaN     NaN   \n",
       "122886      2.5     4.5     NaN     NaN     NaN     NaN     NaN     NaN   \n",
       "122904      NaN     3.5     NaN     NaN     NaN     NaN     NaN     NaN   \n",
       "134130      NaN     4.0     NaN     2.0     NaN     NaN     NaN     NaN   \n",
       "134853      3.5     NaN     NaN     NaN     NaN     NaN     NaN     NaN   \n",
       "\n",
       "userId   4605    4796    ...  276799  277685  278022  278420  280148  280585  \\\n",
       "movieId                  ...                                                   \n",
       "1           NaN     2.5  ...     4.5     NaN     2.0     NaN     5.0     5.0   \n",
       "2           1.5     NaN  ...     3.0     NaN     NaN     2.5     NaN     NaN   \n",
       "3           NaN     NaN  ...     NaN     NaN     NaN     3.5     NaN     NaN   \n",
       "5           NaN     NaN  ...     NaN     2.5     NaN     3.5     3.0     NaN   \n",
       "6           NaN     3.5  ...     NaN     3.0     NaN     NaN     NaN     4.5   \n",
       "...         ...     ...  ...     ...     ...     ...     ...     ...     ...   \n",
       "122882      NaN     2.0  ...     NaN     NaN     3.5     NaN     NaN     NaN   \n",
       "122886      NaN     NaN  ...     NaN     NaN     NaN     3.5     NaN     NaN   \n",
       "122904      NaN     NaN  ...     NaN     NaN     4.0     4.5     NaN     NaN   \n",
       "134130      NaN     3.0  ...     NaN     NaN     NaN     3.0     NaN     NaN   \n",
       "134853      NaN     NaN  ...     NaN     NaN     NaN     4.0     NaN     NaN   \n",
       "\n",
       "userId   280868  281631  281790  283000  \n",
       "movieId                                  \n",
       "1           NaN     NaN     NaN     NaN  \n",
       "2           NaN     NaN     NaN     NaN  \n",
       "3           2.5     NaN     NaN     NaN  \n",
       "5           NaN     NaN     NaN     3.5  \n",
       "6           4.0     3.0     NaN     NaN  \n",
       "...         ...     ...     ...     ...  \n",
       "122882      NaN     NaN     NaN     4.5  \n",
       "122886      3.5     NaN     NaN     4.5  \n",
       "122904      NaN     NaN     NaN     NaN  \n",
       "134130      NaN     NaN     NaN     4.0  \n",
       "134853      NaN     NaN     NaN     4.5  \n",
       "\n",
       "[685 rows x 423 columns]"
      ]
     },
     "execution_count": 20,
     "metadata": {},
     "output_type": "execute_result"
    }
   ],
   "source": [
    "rating_matrix_test"
   ]
  },
  {
   "cell_type": "markdown",
   "metadata": {},
   "source": [
    "### 2.1.4 Model Evaluation"
   ]
  },
  {
   "cell_type": "markdown",
   "metadata": {},
   "source": [
    "- ROC-based metrics (recall, precision, roc curve, auc)\n",
    "- DCG\n",
    "- coverage\n",
    "- scalability"
   ]
  },
  {
   "cell_type": "code",
   "execution_count": 21,
   "metadata": {},
   "outputs": [
    {
     "data": {
      "text/plain": [
       "0.6885897602816633"
      ]
     },
     "execution_count": 21,
     "metadata": {},
     "output_type": "execute_result"
    }
   ],
   "source": [
    "MAE(rating_matrix_test, pred_set)"
   ]
  },
  {
   "cell_type": "code",
   "execution_count": 22,
   "metadata": {},
   "outputs": [
    {
     "data": {
      "text/plain": [
       "0.7899858612161919"
      ]
     },
     "execution_count": 22,
     "metadata": {},
     "output_type": "execute_result"
    }
   ],
   "source": [
    "MSE(rating_matrix_test, pred_set)"
   ]
  },
  {
   "cell_type": "code",
   "execution_count": 28,
   "metadata": {},
   "outputs": [],
   "source": [
    "def dcg(test, pred):\n",
    "    m = test.shape[1]\n",
    "    sorted_pred = -np.sort(-pred, axis=0)\n",
    "    sorted_indice = np.argsort(-pred, axis=0)\n",
    "    sorted_test = np.zeros(test.shape)\n",
    "    ranking = np.zeros(test.shape)\n",
    "    for i in range(m):\n",
    "        sorted_test[:, i] = test[:, i][sorted_indice[:, i]]\n",
    "        ranking[:, i] = i + 1\n",
    "    return np.mean(np.nansum((np.where(np.isnan(sorted_test), np.nan, 1))/np.log2(ranking+1), axis=1))"
   ]
  },
  {
   "cell_type": "code",
   "execution_count": 29,
   "metadata": {},
   "outputs": [
    {
     "data": {
      "text/plain": [
       "22.91174836018709"
      ]
     },
     "execution_count": 29,
     "metadata": {},
     "output_type": "execute_result"
    }
   ],
   "source": [
    "dcg(rating_matrix_test.values, pred_set)"
   ]
  },
  {
   "cell_type": "markdown",
   "metadata": {},
   "source": [
    "### 2.1.5 Reflection"
   ]
  },
  {
   "cell_type": "markdown",
   "metadata": {},
   "source": [
    "- Other design choices to consider?"
   ]
  },
  {
   "cell_type": "markdown",
   "metadata": {},
   "source": [
    "## 2.2 Model-based  Collaborative Filtering"
   ]
  },
  {
   "cell_type": "markdown",
   "metadata": {},
   "source": [
    "### 2.2.1 Data preprocessing"
   ]
  },
  {
   "cell_type": "code",
   "execution_count": 25,
   "metadata": {
    "ExecuteTime": {
     "end_time": "2020-11-05T07:13:06.246480Z",
     "start_time": "2020-11-05T07:13:05.981752Z"
    }
   },
   "outputs": [],
   "source": [
    "#initialize spark \n",
    "import pyspark\n",
    "from pyspark.sql import SparkSession\n",
    "spark = SparkSession.builder.appName(\"PySpark ML Basics\").getOrCreate()\n",
    "\n",
    "#process data into dataframe format \n",
    "df = spark.read.format('csv').options(header='true').load('../ml-latest/ratings.csv').toDF(\"userId\",  \"movieId\",  \"rating\",   \"timestamp\")\n",
    "\n",
    "from pyspark.sql.functions import *\n",
    "from pyspark.sql.types import *\n",
    "\n",
    "\n",
    "df = df.withColumn(\"userId\", df[\"userId\"].cast(IntegerType())). \\\n",
    "withColumn(\"movieId\", df[\"movieId\"].cast(IntegerType())). \\\n",
    "withColumn(\"rating\",df[\"rating\"].cast(FloatType())). \\\n",
    "withColumn(\"timestamp\", df['timestamp'].cast(LongType()))"
   ]
  },
  {
   "cell_type": "code",
   "execution_count": 26,
   "metadata": {
    "ExecuteTime": {
     "end_time": "2020-11-05T07:13:07.658567Z",
     "start_time": "2020-11-05T07:13:07.524488Z"
    }
   },
   "outputs": [
    {
     "name": "stdout",
     "output_type": "stream",
     "text": [
      "+------+-------+------+----------+\n",
      "|userId|movieId|rating| timestamp|\n",
      "+------+-------+------+----------+\n",
      "|     1|    307|   3.5|1256677221|\n",
      "|     1|    481|   3.5|1256677456|\n",
      "|     1|   1091|   1.5|1256677471|\n",
      "|     1|   1257|   4.5|1256677460|\n",
      "|     1|   1449|   4.5|1256677264|\n",
      "+------+-------+------+----------+\n",
      "only showing top 5 rows\n",
      "\n"
     ]
    }
   ],
   "source": [
    "df.show(5)"
   ]
  },
  {
   "cell_type": "code",
   "execution_count": 27,
   "metadata": {
    "ExecuteTime": {
     "end_time": "2020-11-05T07:13:27.344184Z",
     "start_time": "2020-11-05T07:13:09.139525Z"
    }
   },
   "outputs": [
    {
     "name": "stdout",
     "output_type": "stream",
     "text": [
      "number of users\n",
      "+--------+\n",
      "|count(1)|\n",
      "+--------+\n",
      "|  278301|\n",
      "+--------+\n",
      "\n",
      "number of itesm\n",
      "+--------+\n",
      "|count(1)|\n",
      "+--------+\n",
      "|   46487|\n",
      "+--------+\n",
      "\n"
     ]
    }
   ],
   "source": [
    "#sampling data  \n",
    "sample_df = df.sample(False,0.5,1234)\n",
    "sample_df.createOrReplaceTempView(\"sample\") \n",
    "\n",
    "print('number of users')\n",
    "spark.sql(\"select count(1) from (select userId from sample GROUP BY userId)\").show()\n",
    "\n",
    "print('number of itesm')\n",
    "spark.sql(\"select count(1) from (select movieId from sample GROUP BY movieId)\").show()\n",
    "\n"
   ]
  },
  {
   "cell_type": "code",
   "execution_count": 28,
   "metadata": {
    "ExecuteTime": {
     "end_time": "2020-11-05T07:13:30.883878Z",
     "start_time": "2020-11-05T07:13:30.874424Z"
    }
   },
   "outputs": [],
   "source": [
    "#train test split \n",
    "train,test=sample_df.randomSplit((0.8,0.2),seed=1234)"
   ]
  },
  {
   "cell_type": "markdown",
   "metadata": {},
   "source": [
    "### 2.2.2 Model Training"
   ]
  },
  {
   "cell_type": "markdown",
   "metadata": {},
   "source": [
    "<h4> basic model"
   ]
  },
  {
   "cell_type": "code",
   "execution_count": 31,
   "metadata": {
    "ExecuteTime": {
     "end_time": "2020-11-05T07:16:52.253124Z",
     "start_time": "2020-11-05T07:15:36.676909Z"
    }
   },
   "outputs": [
    {
     "name": "stdout",
     "output_type": "stream",
     "text": [
      "Root-mean-square error = 0.8928828461776946\n"
     ]
    }
   ],
   "source": [
    "from pyspark.ml.evaluation import RegressionEvaluator\n",
    "from pyspark.ml.recommendation import ALS\n",
    "als = ALS(maxIter=5, regParam=0.01, userCol=\"userId\", itemCol=\"movieId\", ratingCol=\"rating\",\n",
    "          coldStartStrategy=\"drop\")\n",
    "model = als.fit(train)\n",
    "\n",
    "# Evaluate the model by computing the RMSE on the test data\n",
    "predictions = model.transform(test)\n",
    "evaluator = RegressionEvaluator(metricName=\"rmse\", labelCol=\"rating\",\n",
    "                                predictionCol=\"prediction\")\n",
    "rmse = evaluator.evaluate(predictions)\n",
    "print(\"Root-mean-square error = \" + str(rmse))\n",
    "\n",
    "# Generate top 10 movie recommendations for each user\n",
    "userRecs = model.recommendForAllUsers(10)\n",
    "# Generate top 10 user recommendations for each movie\n",
    "movieRecs = model.recommendForAllItems(10)\n"
   ]
  },
  {
   "cell_type": "markdown",
   "metadata": {},
   "source": [
    "### 2.2.3 Model Tuning with Cross validation"
   ]
  },
  {
   "cell_type": "code",
   "execution_count": 42,
   "metadata": {
    "ExecuteTime": {
     "end_time": "2020-11-05T08:59:44.140469Z",
     "start_time": "2020-11-05T07:31:02.567905Z"
    }
   },
   "outputs": [],
   "source": [
    "from pyspark.ml.tuning import CrossValidator, ParamGridBuilder \n",
    "\n",
    "\n",
    "paramGrid = ParamGridBuilder() \\\n",
    "    .addGrid(als.maxIter,[5,10,20]) \\\n",
    "    .addGrid(als.regParam, [0.1, 0.01,0.001]) \\\n",
    "    .build()\n",
    "\n",
    "crossval = CrossValidator(estimator=als,\n",
    "                          estimatorParamMaps=paramGrid,\n",
    "                          evaluator=RegressionEvaluator(metricName=\"rmse\", labelCol=\"rating\",\n",
    "                                predictionCol=\"prediction\"),\n",
    "                          numFolds=5)  # use 3+ folds in practice\n",
    "\n",
    "# Run cross-validation, and choose the best set of parameters.\n",
    "cvModel = crossval.fit(train)\n",
    "\n",
    "\n",
    "# Make predictions on test documents. cvModel uses the best model found (lrModel).\n",
    "prediction = cvModel.transform(test)\n",
    "# selected = prediction.select(\"id\", \"text\", \"probability\", \"prediction\")\n",
    "# for row in selected.collect():\n",
    "#     print(row)"
   ]
  },
  {
   "cell_type": "code",
   "execution_count": 86,
   "metadata": {
    "ExecuteTime": {
     "end_time": "2020-11-05T09:31:37.144223Z",
     "start_time": "2020-11-05T09:31:37.138079Z"
    }
   },
   "outputs": [
    {
     "data": {
      "text/plain": [
       "[0.8454584609257964,\n",
       " 0.9196519032292239,\n",
       " 1.022924058753338,\n",
       " 0.8381039338587579,\n",
       " 0.9285265085211727,\n",
       " 0.9816080466031223,\n",
       " 0.8357515044209932,\n",
       " 0.9300277980962379,\n",
       " 1.0009818882812291]"
      ]
     },
     "execution_count": 86,
     "metadata": {},
     "output_type": "execute_result"
    }
   ],
   "source": [
    "cvModel.avgMetrics"
   ]
  },
  {
   "cell_type": "code",
   "execution_count": 88,
   "metadata": {
    "ExecuteTime": {
     "end_time": "2020-11-05T09:32:08.620143Z",
     "start_time": "2020-11-05T09:32:08.613307Z"
    }
   },
   "outputs": [
    {
     "data": {
      "text/plain": [
       "[{Param(parent='ALS_e85142a41611', name='maxIter', doc='max number of iterations (>= 0).'): 5,\n",
       "  Param(parent='ALS_e85142a41611', name='regParam', doc='regularization parameter (>= 0).'): 0.1},\n",
       " {Param(parent='ALS_e85142a41611', name='maxIter', doc='max number of iterations (>= 0).'): 5,\n",
       "  Param(parent='ALS_e85142a41611', name='regParam', doc='regularization parameter (>= 0).'): 0.01},\n",
       " {Param(parent='ALS_e85142a41611', name='maxIter', doc='max number of iterations (>= 0).'): 5,\n",
       "  Param(parent='ALS_e85142a41611', name='regParam', doc='regularization parameter (>= 0).'): 0.001},\n",
       " {Param(parent='ALS_e85142a41611', name='maxIter', doc='max number of iterations (>= 0).'): 10,\n",
       "  Param(parent='ALS_e85142a41611', name='regParam', doc='regularization parameter (>= 0).'): 0.1},\n",
       " {Param(parent='ALS_e85142a41611', name='maxIter', doc='max number of iterations (>= 0).'): 10,\n",
       "  Param(parent='ALS_e85142a41611', name='regParam', doc='regularization parameter (>= 0).'): 0.01},\n",
       " {Param(parent='ALS_e85142a41611', name='maxIter', doc='max number of iterations (>= 0).'): 10,\n",
       "  Param(parent='ALS_e85142a41611', name='regParam', doc='regularization parameter (>= 0).'): 0.001},\n",
       " {Param(parent='ALS_e85142a41611', name='maxIter', doc='max number of iterations (>= 0).'): 20,\n",
       "  Param(parent='ALS_e85142a41611', name='regParam', doc='regularization parameter (>= 0).'): 0.1},\n",
       " {Param(parent='ALS_e85142a41611', name='maxIter', doc='max number of iterations (>= 0).'): 20,\n",
       "  Param(parent='ALS_e85142a41611', name='regParam', doc='regularization parameter (>= 0).'): 0.01},\n",
       " {Param(parent='ALS_e85142a41611', name='maxIter', doc='max number of iterations (>= 0).'): 20,\n",
       "  Param(parent='ALS_e85142a41611', name='regParam', doc='regularization parameter (>= 0).'): 0.001}]"
      ]
     },
     "execution_count": 88,
     "metadata": {},
     "output_type": "execute_result"
    }
   ],
   "source": [
    "cvModel.getEstimatorParamMaps()           "
   ]
  },
  {
   "cell_type": "markdown",
   "metadata": {},
   "source": [
    "### 2.2.4 Model Evaluation"
   ]
  },
  {
   "cell_type": "markdown",
   "metadata": {},
   "source": [
    "- ROC-based metrics (recall, precision, roc curve, auc)\n",
    "- DCG\n",
    "- coverage\n",
    "- scalability"
   ]
  },
  {
   "cell_type": "code",
   "execution_count": null,
   "metadata": {},
   "outputs": [],
   "source": []
  },
  {
   "cell_type": "markdown",
   "metadata": {},
   "source": [
    "### 2.2.5 Reflection"
   ]
  },
  {
   "cell_type": "markdown",
   "metadata": {},
   "source": [
    "- Other design choices to consider?"
   ]
  },
  {
   "cell_type": "markdown",
   "metadata": {},
   "source": [
    "# 3. Final Recommendation"
   ]
  },
  {
   "cell_type": "markdown",
   "metadata": {},
   "source": [
    "- Final recommendation to your manager\n",
    "- Reasons and potential watch outs "
   ]
  }
 ],
 "metadata": {
  "kernelspec": {
   "display_name": "Python 3",
   "language": "python",
   "name": "python3"
  },
  "language_info": {
   "codemirror_mode": {
    "name": "ipython",
    "version": 3
   },
   "file_extension": ".py",
   "mimetype": "text/x-python",
   "name": "python",
   "nbconvert_exporter": "python",
   "pygments_lexer": "ipython3",
   "version": "3.7.6"
  },
  "toc": {
   "base_numbering": 1,
   "nav_menu": {},
   "number_sections": false,
   "sideBar": true,
   "skip_h1_title": false,
   "title_cell": "Table of Contents",
   "title_sidebar": "Contents",
   "toc_cell": false,
   "toc_position": {},
   "toc_section_display": true,
   "toc_window_display": false
  },
  "varInspector": {
   "cols": {
    "lenName": 16,
    "lenType": 16,
    "lenVar": 40
   },
   "kernels_config": {
    "python": {
     "delete_cmd_postfix": "",
     "delete_cmd_prefix": "del ",
     "library": "var_list.py",
     "varRefreshCmd": "print(var_dic_list())"
    },
    "r": {
     "delete_cmd_postfix": ") ",
     "delete_cmd_prefix": "rm(",
     "library": "var_list.r",
     "varRefreshCmd": "cat(var_dic_list()) "
    }
   },
   "types_to_exclude": [
    "module",
    "function",
    "builtin_function_or_method",
    "instance",
    "_Feature"
   ],
   "window_display": false
  }
 },
 "nbformat": 4,
 "nbformat_minor": 2
}
